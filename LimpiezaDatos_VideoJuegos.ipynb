{
  "nbformat": 4,
  "nbformat_minor": 0,
  "metadata": {
    "colab": {
      "provenance": [],
      "authorship_tag": "ABX9TyOc/jTJrbbH2qAHeWcwad8N",
      "include_colab_link": true
    },
    "kernelspec": {
      "name": "python3",
      "display_name": "Python 3"
    },
    "language_info": {
      "name": "python"
    }
  },
  "cells": [
    {
      "cell_type": "markdown",
      "metadata": {
        "id": "view-in-github",
        "colab_type": "text"
      },
      "source": [
        "<a href=\"https://colab.research.google.com/github/jfgesis/Limpieza_de_Datos/blob/main/LimpiezaDatos_VideoJuegos.ipynb\" target=\"_parent\"><img src=\"https://colab.research.google.com/assets/colab-badge.svg\" alt=\"Open In Colab\"/></a>"
      ]
    },
    {
      "cell_type": "markdown",
      "source": [
        "Columnas del dataset de los video juegos\n",
        "\n",
        "Rank: Posición del videojueo en una categoria en particular.\n",
        "Title: Nombre del videojuego.\n",
        "Total ratings: Número total de calificaciones.\n",
        "Installs: Número de instalaciones apróximado.\n",
        "Average rating: Calificación promedio hasta 5.\n",
        "Growth (30 days): Crecimiento porcentual en 30 días.\n",
        "Growth (60 days): Crecimiento porcentual en 60 días.\n",
        "Price: Precio en dolares.\n",
        "Category: Categoría del videojuego.\n",
        "5 star ratings: Número de calificaciones de 5 estrellas.\n",
        "4 star ratings: Número de calificaciones de 4 estrellas.\n",
        "3 star ratings: Número de calificaciones de 3 estrellas.\n",
        "2 star ratings: Número de calificaciones de 2 estrellas.\n",
        "1 star ratings: Número de calificaciones de 1 estrella.\n",
        "Paid: Es un videojuego pago (True) o gratis (False)."
      ],
      "metadata": {
        "id": "jrMZnnxrNxo3"
      }
    },
    {
      "cell_type": "code",
      "source": [
        "#Procesamiento\n",
        "import pandas as pd\n",
        "import numpy as np\n",
        "import datetime as dt\n",
        "import missingno as msno\n",
        "\n",
        "#Visualización\n",
        "import matplotlib.pyplot as plt\n",
        "import seaborn as sns\n",
        "import plotly.graph_objects as go"
      ],
      "metadata": {
        "id": "fq1bmkdLN2nn"
      },
      "execution_count": 1,
      "outputs": []
    }
  ]
}